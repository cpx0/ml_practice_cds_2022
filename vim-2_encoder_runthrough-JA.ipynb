{
 "cells": [
  {
   "cell_type": "markdown",
   "metadata": {},
   "source": [
    "# 脳活動エンコーダの学習（実行例）\n",
    "\n",
    "演習課題の詳細は`vim-2_encoder_practice.pdf`を参照すること。"
   ]
  },
  {
   "cell_type": "markdown",
   "metadata": {},
   "source": [
    "## 学習の段取り"
   ]
  },
  {
   "cell_type": "code",
   "execution_count": 1,
   "metadata": {},
   "outputs": [],
   "source": [
    "import numpy as np\n",
    "import math\n",
    "import tables\n",
    "import pickle\n",
    "\n",
    "import gabor\n",
    "import data_vim2_encoder\n",
    "import model_linreg\n",
    "import algo_GD"
   ]
  },
  {
   "cell_type": "code",
   "execution_count": 2,
   "metadata": {},
   "outputs": [],
   "source": [
    "_id = 1\n",
    "_num_loops = 15\n",
    "_num_logspace = 5\n",
    "_step = lambda t, model, data, newdir : 0.01"
   ]
  },
  {
   "cell_type": "code",
   "execution_count": 3,
   "metadata": {},
   "outputs": [],
   "source": [
    "num_voxels = data_vim2_encoder.num_voxels(part_id=_id)"
   ]
  },
  {
   "cell_type": "code",
   "execution_count": 4,
   "metadata": {},
   "outputs": [],
   "source": [
    "# Dictionaries of performance over all voxels.\n",
    "dict_corr_tr = {}\n",
    "dict_corr_te = {}\n",
    "dict_l0norm = {}"
   ]
  },
  {
   "cell_type": "code",
   "execution_count": 5,
   "metadata": {
    "scrolled": true
   },
   "outputs": [
    {
     "name": "stdout",
     "output_type": "stream",
     "text": [
      "Voxel: 1 of 2471\n",
      "Voxel: 101 of 2471\n",
      "Voxel: 201 of 2471\n",
      "Voxel: 301 of 2471\n",
      "Voxel: 401 of 2471\n",
      "Voxel: 501 of 2471\n",
      "Voxel: 601 of 2471\n",
      "Voxel: 701 of 2471\n",
      "Voxel: 801 of 2471\n",
      "Voxel: 901 of 2471\n",
      "Voxel: 1001 of 2471\n",
      "Voxel: 1101 of 2471\n",
      "Voxel: 1201 of 2471\n",
      "Voxel: 1301 of 2471\n",
      "Voxel: 1401 of 2471\n",
      "Voxel: 1501 of 2471\n",
      "Voxel: 1601 of 2471\n",
      "Voxel: 1701 of 2471\n",
      "Voxel: 1801 of 2471\n",
      "Voxel: 1901 of 2471\n",
      "Voxel: 2001 of 2471\n",
      "Voxel: 2101 of 2471\n",
      "Voxel: 2201 of 2471\n",
      "Voxel: 2301 of 2471\n",
      "Voxel: 2401 of 2471\n"
     ]
    }
   ],
   "source": [
    "for v in range(num_voxels):\n",
    "    \n",
    "    # Read in the data.\n",
    "    data = data_vim2_encoder.gen(part_id=_id, vox=v)\n",
    "    \n",
    "    n, d = data.X_tr.shape\n",
    "\n",
    "    # Set up for a loop over trials and lambda values.\n",
    "    lam_todo = np.logspace(start=math.log10(1/n),\n",
    "                           stop=math.log10(2.5),\n",
    "                           num=_num_logspace)\n",
    "    \n",
    "    t_max = _num_loops * d\n",
    "    \n",
    "    # Storage for performance metrics.\n",
    "    corr_tr = np.zeros(lam_todo.size, dtype=np.float32)\n",
    "    corr_te = np.zeros(lam_todo.size, dtype=np.float32)\n",
    "    l0norm = np.zeros(lam_todo.size, dtype=np.uint32)\n",
    "    \n",
    "    # Just to get things started, do naive setup.\n",
    "    w_init = 1*np.random.uniform(size=(d,1))\n",
    "    model = model_linreg.LinReg_Ridge(data=data)\n",
    "\n",
    "    for l in range(lam_todo.size):\n",
    "\n",
    "        lam = lam_todo[l]\n",
    "        \n",
    "        if (v % 100 == 0) and (l == 0):\n",
    "            print(\"Voxel:\", v+1, \"of\", num_voxels)\n",
    "            #print(\"Lambda value =\", lamval, \"(\", l, \"of\", todo_lambda.size, \")\")\n",
    "\n",
    "        # Use warm starts when available.\n",
    "        if l > 0:\n",
    "            w_init = np.copy(algo.w)\n",
    "        \n",
    "        algo = algo_GD.GD_ERM(w_init=w_init, step=_step,\n",
    "                              t_max=t_max, paras={\"lamreg\":lam})\n",
    "\n",
    "        # Iterate the learning algorithm.\n",
    "        for onestep in algo:\n",
    "            algo.update(model=model, data=data)\n",
    "\n",
    "        # Record performance based on final output.\n",
    "        corr_tr[l] = model.corr(w=algo.w, X=data.X_tr, y=data.y_tr)\n",
    "        corr_te[l] = model.corr(w=algo.w, X=data.X_te, y=data.y_te)\n",
    "        l0norm[l] = np.nonzero(algo.w)[0].size\n",
    "    \n",
    "    # Save the performance for this voxel.\n",
    "    dict_corr_tr[v] = corr_tr\n",
    "    dict_corr_te[v] = corr_te\n",
    "    dict_l0norm[v] = l0norm"
   ]
  },
  {
   "cell_type": "code",
   "execution_count": 7,
   "metadata": {},
   "outputs": [],
   "source": [
    "# Method name\n",
    "mth_name = \"MyMethod\"\n",
    "\n",
    "# Lambda values used.\n",
    "fname = mth_name+\"sub\"+str(_id)+\".lam\"\n",
    "with open(fname, mode=\"bw\") as fbin:\n",
    "    pickle.dump(lam_todo, fbin)\n",
    "\n",
    "# Correlation over lambda values.\n",
    "fname = mth_name+\"sub\"+str(_id)+\".corrtr\"\n",
    "with open(fname, mode=\"bw\") as fbin:\n",
    "    pickle.dump(dict_corr_tr, fbin)\n",
    "fname = mth_name+\"sub\"+str(_id)+\".corrte\"\n",
    "with open(fname, mode=\"bw\") as fbin:\n",
    "    pickle.dump(dict_corr_te, fbin)\n",
    "\n",
    "# Sparsity over lambda values.\n",
    "fname = mth_name+\"sub\"+str(_id)+\".l0norm\"\n",
    "with open(fname, mode=\"bw\") as fbin:\n",
    "    pickle.dump(dict_l0norm, fbin)"
   ]
  },
  {
   "cell_type": "markdown",
   "metadata": {
    "collapsed": true
   },
   "source": [
    "## 学習結果の評価\n",
    "\n",
    "学習が終わって、あとは成績を集計したり、可視化したりするだけである。\n",
    "Jupyterのカーネルをリセットし、ここから新たな作業を始める。"
   ]
  },
  {
   "cell_type": "code",
   "execution_count": 1,
   "metadata": {},
   "outputs": [],
   "source": [
    "# Preparation.\n",
    "import math\n",
    "import numpy as np\n",
    "import pickle\n",
    "import matplotlib\n",
    "import matplotlib.pyplot as plt\n",
    "import tables\n",
    "\n",
    "\n",
    "_fontsize = \"xx-large\""
   ]
  },
  {
   "cell_type": "code",
   "execution_count": 2,
   "metadata": {},
   "outputs": [],
   "source": [
    "# Method name\n",
    "mth_name = \"MyMethod\"\n",
    "\n",
    "# Subject ID.\n",
    "_id = 1"
   ]
  },
  {
   "cell_type": "code",
   "execution_count": 3,
   "metadata": {},
   "outputs": [],
   "source": [
    "# Lambda values used.\n",
    "fname = mth_name+\"sub\"+str(_id)+\".lam\"\n",
    "with open(fname, mode=\"br\") as fbin:\n",
    "    todo_lambda = pickle.load(fbin)\n",
    "\n",
    "# Correlation over lambda values, on the training and test data.\n",
    "fname = mth_name+\"sub\"+str(_id)+\".corrtr\"\n",
    "with open(fname, mode=\"br\") as fbin:\n",
    "    dict_corr_tr = pickle.load(fbin)\n",
    "fname = mth_name+\"sub\"+str(_id)+\".corrte\"\n",
    "with open(fname, mode=\"br\") as fbin:\n",
    "    dict_corr_te = pickle.load(fbin)\n",
    "\n",
    "# Sparsity over lambda values.\n",
    "fname = mth_name+\"sub\"+str(_id)+\".l0norm\"\n",
    "with open(fname, mode=\"br\") as fbin:\n",
    "    dict_l0norm = pickle.load(fbin)\n",
    "    \n",
    "# Index reference.\n",
    "fname = \"idx_clean_\"+\"sub\"+str(_id)+\".ref\"\n",
    "with open(fname, mode=\"br\") as fbin:\n",
    "    idx_clean_ref = pickle.load(fbin)"
   ]
  },
  {
   "cell_type": "markdown",
   "metadata": {},
   "source": [
    "まず、パフォーマンス指標をボクセルごとに見てみよう。"
   ]
  },
  {
   "cell_type": "code",
   "execution_count": 4,
   "metadata": {},
   "outputs": [],
   "source": [
    "# Single-voxel performance evaluation.\n",
    "_v = 1"
   ]
  },
  {
   "cell_type": "code",
   "execution_count": 5,
   "metadata": {
    "scrolled": false
   },
   "outputs": [
    {
     "name": "stdout",
     "output_type": "stream",
     "text": [
      "Results: subject 1 , voxel id 1\n"
     ]
    },
    {
     "data": {
      "image/png": "[encoded data removed]",
      "text/plain": [
       "<matplotlib.figure.Figure at 0x7f411871b400>"
      ]
     },
     "metadata": {},
     "output_type": "display_data"
    }
   ],
   "source": [
    "print(\"Results: subject\", _id, \", voxel id\", _v)\n",
    "\n",
    "myfig = plt.figure(figsize=(14,7))\n",
    "ax_corr = myfig.add_subplot(1, 2, 1)\n",
    "plt.title(\"Correlation coefficient\", size=_fontsize)\n",
    "plt.xlabel(\"Lambda values\", size=_fontsize)\n",
    "ax_corr.set_xscale('log')\n",
    "ax_corr.plot(todo_lambda, dict_corr_tr[_v], label=\"train\", color=\"xkcd:red\")\n",
    "ax_corr.plot(todo_lambda, dict_corr_te[_v], label=\"test\", color=\"xkcd:maroon\")\n",
    "ax_corr.legend(loc=\"best\",ncol=1, fontsize=_fontsize)\n",
    "ax_corr.tick_params(labelsize=_fontsize)\n",
    "\n",
    "ax_spar = myfig.add_subplot(1, 2, 2)\n",
    "plt.title(\"Sparsity via l0-norm\", size=_fontsize)\n",
    "plt.xlabel(\"Lambda values\", size=_fontsize)\n",
    "ax_spar.set_xscale('log')\n",
    "ax_spar.plot(todo_lambda, dict_l0norm[_v], color=\"xkcd:navy\")\n",
    "ax_spar.tick_params(labelsize=_fontsize)\n",
    "\n",
    "plt.show()"
   ]
  },
  {
   "cell_type": "markdown",
   "metadata": {},
   "source": [
    "続いて、全ボクセルまで対象範囲を拡げ、ROIごとの平均的な成績を見ていく。まずは、$\\lambda$の候補として多数の値を試しているので、代表的な成績を選ぶ必要がある。訓練、検証、それぞれにおいて相関係数の絶対値がもっとも高かったものを選出する。"
   ]
  },
  {
   "cell_type": "code",
   "execution_count": 6,
   "metadata": {},
   "outputs": [],
   "source": [
    "num_voxels = len(dict_corr_tr)\n",
    "\n",
    "best_corr_tr = np.zeros(num_voxels, dtype=np.float32)\n",
    "best_corr_te = np.zeros(num_voxels, dtype=np.float32)\n",
    "\n",
    "for v in range(num_voxels):\n",
    "    \n",
    "    # Best absolute correlation value.\n",
    "    best_corr_tr[v] = np.max(np.abs(dict_corr_tr[v]))\n",
    "    best_corr_te[v] = np.max(np.abs(dict_corr_te[v]))"
   ]
  },
  {
   "cell_type": "markdown",
   "metadata": {},
   "source": [
    "次はROIの上でのループである。あらかじめ用意した階層型データはここで役に立つ。"
   ]
  },
  {
   "cell_type": "code",
   "execution_count": 7,
   "metadata": {},
   "outputs": [],
   "source": [
    "dict_roi_corr_tr = {}\n",
    "dict_roi_corr_te = {}"
   ]
  },
  {
   "cell_type": "code",
   "execution_count": 8,
   "metadata": {},
   "outputs": [],
   "source": [
    "for roi in idx_clean_ref.keys():\n",
    "    dict_roi_corr_tr[roi] = np.mean(best_corr_tr[idx_clean_ref[roi]])\n",
    "    dict_roi_corr_te[roi] = np.mean(best_corr_te[idx_clean_ref[roi]])"
   ]
  },
  {
   "cell_type": "code",
   "execution_count": 16,
   "metadata": {},
   "outputs": [
    {
     "data": {
      "image/png": "[encoded data removed]",
      "text/plain": [
       "<matplotlib.figure.Figure at 0x7f41146063c8>"
      ]
     },
     "metadata": {},
     "output_type": "display_data"
    }
   ],
   "source": [
    "# Training\n",
    "xvals = list(dict_roi_corr_tr.keys())\n",
    "yvals = list(dict_roi_corr_tr.values())\n",
    "myfig = plt.figure(figsize=(14,7))\n",
    "plt.barh(range(len(dict_roi_corr_tr)), yvals, color=\"xkcd:navy\")\n",
    "plt.yticks(range(len(dict_roi_corr_tr)), xvals)\n",
    "plt.title(\"Best correlation, within-ROI average (training)\", size=_fontsize)\n",
    "plt.axvline(x=np.mean(np.array(yvals)), color=\"xkcd:gray\")\n",
    "plt.tick_params(labelsize=_fontsize)\n",
    "\n",
    "plt.show()"
   ]
  },
  {
   "cell_type": "code",
   "execution_count": 17,
   "metadata": {},
   "outputs": [
    {
     "data": {
      "image/png": "[encoded data removed]",
      "text/plain": [
       "<matplotlib.figure.Figure at 0x7f4114606160>"
      ]
     },
     "metadata": {},
     "output_type": "display_data"
    }
   ],
   "source": [
    "# Testing\n",
    "xvals = list(dict_roi_corr_te.keys())\n",
    "yvals = list(dict_roi_corr_te.values())\n",
    "myfig = plt.figure(figsize=(14,7))\n",
    "plt.barh(range(len(dict_roi_corr_te)), yvals, color=\"xkcd:crimson\")\n",
    "plt.yticks(range(len(dict_roi_corr_te)), xvals)\n",
    "plt.title(\"Best correlation, within-ROI average (testing)\", size=_fontsize)\n",
    "plt.axvline(x=np.mean(np.array(yvals)), color=\"xkcd:gray\")\n",
    "plt.tick_params(labelsize=_fontsize)\n",
    "\n",
    "plt.show()"
   ]
  },
  {
   "cell_type": "markdown",
   "metadata": {},
   "source": [
    "上記で作ったエンコーダは、ほぼ「無能レベル」である。その理由はアルゴリズム側にもモデル側にも起因するところがある。このノートブックで例示した実装を見て、大幅な性能の改善を図るのが主たる演習課題である。詳細は`vim-2_encoder_practice.pdf`を参照すること。"
   ]
  },
  {
   "cell_type": "markdown",
   "metadata": {},
   "source": [
    "___"
   ]
  }
 ],
 "metadata": {
  "kernelspec": {
   "display_name": "Python 3 (ipykernel)",
   "language": "python",
   "name": "python3"
  },
  "language_info": {
   "codemirror_mode": {
    "name": "ipython",
    "version": 3
   },
   "file_extension": ".py",
   "mimetype": "text/x-python",
   "name": "python",
   "nbconvert_exporter": "python",
   "pygments_lexer": "ipython3",
   "version": "3.9.12"
  }
 },
 "nbformat": 4,
 "nbformat_minor": 2
}
