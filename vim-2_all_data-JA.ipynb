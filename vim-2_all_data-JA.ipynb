{
 "cells": [
  {
   "cell_type": "markdown",
   "metadata": {},
   "source": [
    "# `vim-2`の概要と解凍\n"
   ]
  },
  {
   "cell_type": "markdown",
   "metadata": {},
   "source": [
    "## データセットの概要"
   ]
  },
  {
   "cell_type": "markdown",
   "metadata": {},
   "source": [
    "今回使うデータの名称は「Gallant Lab Natural Movie 4T fMRI Data set」で、通称はvim-2である。その中身を眺めてみると下記の通りである。"
   ]
  },
  {
   "cell_type": "markdown",
   "metadata": {},
   "source": [
    "### 視覚刺激\n",
    "\n",
    "被験者に見せる自然動画像である。つまり、動画の内容はこの実験のために人工的に作られたものではなく、日常生活で普段から見るような内容になっているということである。\n",
    "\n",
    "```\n",
    "Stimuli.tar.gz 4089110463 (3.8 GB)\n",
    "```"
   ]
  },
  {
   "cell_type": "markdown",
   "metadata": {},
   "source": [
    "### BOLD信号\n",
    "\n",
    "fMRIで測定したBOLD（血中酸素濃度に依存する）信号で、脳活動の指標として使う。\n",
    "\n",
    "```\n",
    "VoxelResponses_subject1.tar.gz 3178624411 (2.9 GB)\n",
    "VoxelResponses_subject2.tar.gz 3121761551 (2.9 GB)\n",
    "VoxelResponses_subject3.tar.gz 3216874972 (2.9 GB)\n",
    "```"
   ]
  },
  {
   "cell_type": "markdown",
   "metadata": {},
   "source": [
    "### データの詳細\n",
    "\n",
    "視覚刺激はすべて`Stimuli.mat`というファイルに格納されている（形式：Matlab v.7.3）。その中身は訓練・検証データから構成される。\n",
    "\n",
    " - `st`: training stimuli. 128x128x3x108000 matrix (108000 128x128 rgb frames). \n",
    " - `sv`: validation stimuli. 128x128x3x8100 matrix (8100 128x128 rgb frames)."
   ]
  },
  {
   "cell_type": "markdown",
   "metadata": {},
   "source": [
    "訓練データに関しては、視覚刺激は15fpsで120分間提示されたため、7200の時点で合計108000枚のフレームから成る。\n",
    "\n",
    "検証データについては、同様に15fpsで9分間提示されたため、540の時点で合計8100枚のフレームから成る。検証用の視覚刺激は10回被験者に提示されたが、今回使う応答信号は、その10回の試行から算出した平均値である。平均を取る前の「生」データは公開されているが、ここでは使わない。"
   ]
  },
  {
   "cell_type": "markdown",
   "metadata": {},
   "source": [
    "あと、データを並べ替える必要は特にない。作者の説明：\n",
    "\n",
    "> *\"The order of the stimuli in the \"st\" and \"sv\" variables matches the order of the stimuli in the \"rt\" and \"rv\" variables in the response files.\"*"
   ]
  },
  {
   "cell_type": "markdown",
   "metadata": {},
   "source": [
    "## 解凍して中身を見る"
   ]
  },
  {
   "cell_type": "markdown",
   "metadata": {},
   "source": [
    "前へ進むには、これらのファイルを解凍しておく必要がある。\n",
    "\n",
    "```\n",
    "$ tar -xzf Stimuli.tar.gz\n",
    "$ tar -xzf VoxelResponses_subject1.tar.gz\n",
    "$ tar -xzf VoxelResponses_subject2.tar.gz\n",
    "$ tar -xzf VoxelResponses_subject3.tar.gz\n",
    "```"
   ]
  },
  {
   "cell_type": "markdown",
   "metadata": {},
   "source": [
    "すると`Stimuli.mat`および`VoxelResponses_subject{1,2,3}.mat`が得られる。階層的な構造を持つデータなので、開閉、読み書き、編集等を楽にしてくれる__PyTables__ ( http://www.pytables.org/usersguide/index.html )というライブラリを使う。シェルからファイルの中身とドキュメンテーションを照らし合わせてみると、下記のような結果が出てくる。"
   ]
  },
  {
   "cell_type": "markdown",
   "metadata": {},
   "source": [
    "```\n",
    "$ ptdump Stimuli.mat\n",
    "/ (RootGroup) ''\n",
    "/st (EArray(108000, 3, 128, 128), zlib(3)) ''\n",
    "/sv (EArray(8100, 3, 128, 128), zlib(3)) ''\n",
    "```"
   ]
  },
  {
   "cell_type": "markdown",
   "metadata": {},
   "source": [
    "かなり単純な「階層」ではあるが、RootGroupにはフォルダー（`st`と`sv`）が2つある。それぞれの座標軸の意味を確認すると、1つ目は時点、2つ目は色チャネル（RGB）、3つ目と4つ目のペアは2次元配列における位置を示す。"
   ]
  },
  {
   "cell_type": "markdown",
   "metadata": {},
   "source": [
    "次に応答信号のデータに注視すると、もう少し豊かな階層構造が窺える。"
   ]
  },
  {
   "cell_type": "markdown",
   "metadata": {},
   "source": [
    "```\n",
    "$ ptdump VoxelResponses_subject1.mat \n",
    "/ (RootGroup) ''\n",
    "/rt (EArray(73728, 7200), zlib(3)) ''\n",
    "/rv (EArray(73728, 540), zlib(3)) ''\n",
    "/rva (EArray(73728, 10, 540), zlib(3)) ''\n",
    "(...Warnings...)\n",
    "/ei (Group) ''\n",
    "/ei/TRsec (Array(1, 1)) ''\n",
    "/ei/datasize (Array(3, 1)) ''\n",
    "/ei/imhz (Array(1, 1)) ''\n",
    "/ei/valrepnum (Array(1, 1)) ''\n",
    "/roi (Group) ''\n",
    "/roi/FFAlh (EArray(18, 64, 64), zlib(3)) ''\n",
    "/roi/FFArh (EArray(18, 64, 64), zlib(3)) ''\n",
    "/roi/IPlh (EArray(18, 64, 64), zlib(3)) ''\n",
    "/roi/IPrh (EArray(18, 64, 64), zlib(3)) ''\n",
    "/roi/MTlh (EArray(18, 64, 64), zlib(3)) ''\n",
    "/roi/MTplh (EArray(18, 64, 64), zlib(3)) ''\n",
    "/roi/MTprh (EArray(18, 64, 64), zlib(3)) ''\n",
    "/roi/MTrh (EArray(18, 64, 64), zlib(3)) ''\n",
    "/roi/OBJlh (EArray(18, 64, 64), zlib(3)) ''\n",
    "/roi/OBJrh (EArray(18, 64, 64), zlib(3)) ''\n",
    "/roi/PPAlh (EArray(18, 64, 64), zlib(3)) ''\n",
    "/roi/PPArh (EArray(18, 64, 64), zlib(3)) ''\n",
    "/roi/RSCrh (EArray(18, 64, 64), zlib(3)) ''\n",
    "/roi/STSrh (EArray(18, 64, 64), zlib(3)) ''\n",
    "/roi/VOlh (EArray(18, 64, 64), zlib(3)) ''\n",
    "/roi/VOrh (EArray(18, 64, 64), zlib(3)) ''\n",
    "/roi/latocclh (EArray(18, 64, 64), zlib(3)) ''\n",
    "/roi/latoccrh (EArray(18, 64, 64), zlib(3)) ''\n",
    "/roi/v1lh (EArray(18, 64, 64), zlib(3)) ''\n",
    "/roi/v1rh (EArray(18, 64, 64), zlib(3)) ''\n",
    "/roi/v2lh (EArray(18, 64, 64), zlib(3)) ''\n",
    "/roi/v2rh (EArray(18, 64, 64), zlib(3)) ''\n",
    "/roi/v3alh (EArray(18, 64, 64), zlib(3)) ''\n",
    "/roi/v3arh (EArray(18, 64, 64), zlib(3)) ''\n",
    "/roi/v3blh (EArray(18, 64, 64), zlib(3)) ''\n",
    "/roi/v3brh (EArray(18, 64, 64), zlib(3)) ''\n",
    "/roi/v3lh (EArray(18, 64, 64), zlib(3)) ''\n",
    "/roi/v3rh (EArray(18, 64, 64), zlib(3)) ''\n",
    "/roi/v4lh (EArray(18, 64, 64), zlib(3)) ''\n",
    "/roi/v4rh (EArray(18, 64, 64), zlib(3)) ''\n",
    "\n",
    "```"
   ]
  },
  {
   "cell_type": "markdown",
   "metadata": {},
   "source": [
    "応答のデータでは、RootGroupのなかには、まず`rt`、`rv`、`rva`という3つの配列がある。これらはBOLD信号の測定値を格納している。また、`roi`と`ei`と名付けられたgroupがある。前者は応答信号の時系列とボクセルを結びつけるためのインデックスである。後者は実験の条件等を示す数値が格納されている。ここで`roi`のほうに注目すると、計測された脳の領域全体を分割して（構成要素：ボクセル）、それを生理的・解剖学的に関心を持つべき「関心領域」（ROI）に振り分けていくのだが、この`roi`なるグループは、各ROIの名が付いた配列を含む。たとえば、`v4rh`とは__V4__という領域で、右半球（right hemisphere）に限定したROIのことである。明らかなように、ROIの数はボクセル数（$18 \\times 64 \\times 64 = 73728$）よりも遥かに少ないので、各ROIが複数のボクセルを含むことがわかる。"
   ]
  },
  {
   "cell_type": "markdown",
   "metadata": {},
   "source": [
    "___"
   ]
  }
 ],
 "metadata": {
  "kernelspec": {
   "display_name": "Python 3 (ipykernel)",
   "language": "python",
   "name": "python3"
  },
  "language_info": {
   "codemirror_mode": {
    "name": "ipython",
    "version": 3
   },
   "file_extension": ".py",
   "mimetype": "text/x-python",
   "name": "python",
   "nbconvert_exporter": "python",
   "pygments_lexer": "ipython3",
   "version": "3.9.12"
  }
 },
 "nbformat": 4,
 "nbformat_minor": 2
}
